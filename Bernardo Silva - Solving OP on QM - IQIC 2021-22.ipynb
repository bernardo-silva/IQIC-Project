{
 "cells": [
  {
   "cell_type": "markdown",
   "id": "fd28ffba-a048-4b46-9072-1f91cef4e725",
   "metadata": {
    "slideshow": {
     "slide_type": "slide"
    },
    "tags": []
   },
   "source": [
    "# **Solving Optimization Problems on Real Quantum Machines**\n",
    "---\n",
    "\n",
    "**Bernardo Silva 93365**\n",
    "\n",
    "**Introduction to Quantum Information and Computation, 2021/22**\n",
    "\n",
    "**Instituto Superior Técnico, Universidade de Lisboa**\n",
    "\n",
    "**January 31, 2022**"
   ]
  },
  {
   "cell_type": "markdown",
   "id": "a07f70eb-5c6a-4a4b-a503-ca7f286dadb4",
   "metadata": {
    "tags": []
   },
   "source": [
    "## Why Use Quantum Annealing?\n",
    "[1]\n",
    "\n",
    "- Very natural problem formulation for **Optimization problems** and **Sampling problems**;\n",
    "- Could also be useful for **Simulation problems**;\n",
    "- Current implementations are competing against their classical counterparts for the biggest speedups;\n",
    "- This paradigm handles noise better than the circuit model, which allows for a much greater (1 order of magnitude) number of qubits currently implemented;\n",
    "- It's the closest we have to the theoretical universal model of Quantum Adiabatic Computing;\n",
    "- It's pretty cool. "
   ]
  },
  {
   "cell_type": "markdown",
   "id": "3454819d-a954-4d3c-8613-111d966dd2e1",
   "metadata": {},
   "source": [
    "L## D-Wave's Implementation\n",
    "\n",
    "![DWave logo](images/dwave.png)\n",
    "\n",
    "**D-Wave** is a Canadian company that built some systems capable of performing Quantum Annealing. \n",
    "\n",
    "**Qubits** are implemented as **superconducting loops**, where the direction of the current dictates the state the qubit is is.\n",
    "\n",
    "**Magnetic fields** control the **biases** of individual qubits, and **couplers** control the strength of qubit-qubit interactions (**entanglement**). \n",
    "\n",
    "**Qubits** are arranged in a certain **topology** that dictates the degrees of connection of the qubits. In the following images, a loop represents one qubit and one intersection represents a coupling."
   ]
  },
  {
   "cell_type": "markdown",
   "id": "1bf5a6e2-e1ad-402b-a131-9f25bfc7a1e5",
   "metadata": {},
   "source": [
    "---\n",
    "**Chimera topology:**\n",
    "- Each qubit is connected to 6 other qubits\n",
    "- It presents a $16\\times16$ grid of unit cells (3 represented in the figure bellow), each with 8 qubits\n",
    "\n",
    "![Chimera topology](images/chimera.png)\n",
    "\n",
    "**Pegasus topology:**\n",
    "- Each qubit is connected to 15 other qubits\n",
    "\n",
    "![Pegasus topology](images/pegasus.png)\n",
    "\n",
    "---\n",
    "\n",
    "Since these graphs are not totally connected, sometimes we need to represent a variable using multiple qubits and setting a strong interaction between them to ensure they result in the same values. \n",
    "\n",
    "The process of mapping variables to qubits is called **minor embedding** [2]. More on this later."
   ]
  },
  {
   "cell_type": "markdown",
   "id": "2780aa1a-c5c5-4784-9a14-f3bb4a2de73d",
   "metadata": {},
   "source": [
    "\n",
    "\n",
    "|                           | D-Wave One | D-Wave Two | D-Wave 2X   | D-Wave 2000Q | Advantage | Advantage 2  |\n",
    "|:-------------------------:|:----------:|:----------:|-------------|--------------|-----------|--------------|\n",
    "| Release date              |  May 2011  |  May 2013  | August 2015 | January 2017 |    2020   | 2023-2024    |\n",
    "| Topology                  |            |            |             |    Chimera   |  Pegasus  |    Zephyr    |\n",
    "| Qubits                    |     128    |     512    |     1152    |     2048     |    5640   | 7000+ |\n",
    "| Couplers                  |     352    |    1,472   |    3,360    |     6,016    |   40,484  |              |\n",
    "| Temperature (K) |            |    0.02    |    0.015    |     0.015    |   <0.015  |              |\n",
    "| Power (kW)    |            |    15.5    |      25     |      25      |     25    |              |"
   ]
  },
  {
   "cell_type": "markdown",
   "id": "dff97b25-3843-48be-bf4e-16f28526bfa2",
   "metadata": {},
   "source": [
    "D-Wave provides a quantum cloud service, **Leap™**, and a suite of open-source tools, **Ocean**, for interacting with the QPUs.\n",
    "\n",
    "Anyone can program and run their programs on the quantum hardware (up to a certain quota).\n",
    "\n",
    "The Documentation for the Ocean's Python Libraries used can be found [here](https://docs.ocean.dwavesys.com/) [3]."
   ]
  },
  {
   "cell_type": "markdown",
   "id": "6f2e2cd8-f6d9-446b-9527-f55be553815c",
   "metadata": {},
   "source": [
    "# Optimization Problems\n",
    "\n",
    "In general, an optimization problem is one where we want to minimize/maximize a given function, sometimes called cost function or objective function.\n",
    "\n",
    "D-Waves's machines allow us to solve **quadratic models**, that is, where the interactions are, at most, between two variables (qubits).\n",
    "\n",
    "**Binary Quadratic Models:**\n",
    "\n",
    "The general equation to represent this model is \n",
    "\n",
    "$$E(\\mathbf v) = \\sum_i a_i\\mathbf{v_i} + \\sum_{i<j} b_{i,j}\\mathbf{v_i}\\mathbf{v_j}, \\quad \\mathbf{v_i} \\in \\{-1,1\\}\\ \\text{or}\\ \\mathbf{v_i} \\in \\{0,1\\}$$\n",
    "\n",
    "When $\\mathbf{v_i} \\in \\{-1,1\\}$, we call it the **Ising Model**, and when $\\mathbf{v_i} \\in \\{0,1\\}$, we call it a **Quadratic Unconstrained Binary Model (QUBO)**.\n",
    "\n",
    "These models are unconstrained because we can't enforce constraints on the variables, we can only penalize them."
   ]
  },
  {
   "cell_type": "markdown",
   "id": "785ae247-e57f-441d-bbea-c50dc13b5f21",
   "metadata": {},
   "source": [
    "## (Anti)Ferromagnetic Chain\n",
    "[4 - Raúl's Presentation]\n",
    "\n",
    "![chain](images/cadeia.png)\n",
    "\n",
    "Lets look at the spin chain example again. Here we consider the Ising model for a chain of $N$ qubits with couplings set to either $1$ or $-1$."
   ]
  },
  {
   "cell_type": "code",
   "execution_count": 1,
   "id": "5d1f2383-798e-4f61-bf07-dd3b723d0cf4",
   "metadata": {},
   "outputs": [],
   "source": [
    "from dimod import BinaryQuadraticModel\n",
    "\n",
    "#Samplers\n",
    "from neal import SimulatedAnnealingSampler\n",
    "from dwave.system import DWaveSampler, EmbeddingComposite\n",
    "\n",
    "import dwave.inspector"
   ]
  },
  {
   "cell_type": "code",
   "execution_count": 11,
   "id": "4e2aa554-8306-400d-a469-fd5f2cd4b516",
   "metadata": {
    "scrolled": true,
    "tags": []
   },
   "outputs": [],
   "source": [
    "# Build the BQM\n",
    "N = 50\n",
    "COUPLING = -1\n",
    "\n",
    "bqm = BinaryQuadraticModel(N,'SPIN')\n",
    "\n",
    "for i in range(N-1):\n",
    "    bqm.set_quadratic(i, i+1, COUPLING)\n",
    "bqm.set_quadratic(0, N-1, COUPLING)"
   ]
  },
  {
   "cell_type": "code",
   "execution_count": 12,
   "id": "760c2e7c-dbfd-4e6d-bc79-e707607ea40e",
   "metadata": {
    "scrolled": true,
    "tags": []
   },
   "outputs": [],
   "source": [
    "sampler = EmbeddingComposite(DWaveSampler()) #QPU sampler\n",
    "# sampler = SimulatedAnnealingSampler() #Simulated annealing sampler\n",
    "\n",
    "samples = sampler.sample(bqm, num_reads=100, label='Spins')\n",
    "\n",
    "energies = [s.energy for s in samples.data()]\n",
    "occurences = [s.num_occurrences for s in samples.data()]"
   ]
  },
  {
   "cell_type": "code",
   "execution_count": 4,
   "id": "05113d35-65ab-4cb6-9c39-d2f632157f11",
   "metadata": {},
   "outputs": [
    {
     "data": {
      "text/plain": [
       "'http://127.0.0.1:18000/?problemId=4a9d1403-219e-4dfd-b2e2-9ed63204681a'"
      ]
     },
     "execution_count": 4,
     "metadata": {},
     "output_type": "execute_result"
    }
   ],
   "source": [
    "#Inspect the embedding\n",
    "dwave.inspector.show(samples)  "
   ]
  },
  {
   "cell_type": "code",
   "execution_count": 5,
   "id": "45620d86-de34-4d21-9a3e-318940e18fe1",
   "metadata": {},
   "outputs": [
    {
     "data": {
      "image/png": "[encoded data removed]",
      "text/plain": [
       "<Figure size 432x288 with 1 Axes>"
      ]
     },
     "metadata": {
      "needs_background": "light"
     },
     "output_type": "display_data"
    }
   ],
   "source": [
    "#Plot the energies found\n",
    "import matplotlib.pyplot as plt\n",
    "\n",
    "plt.hist(energies,weights=occurences)\n",
    "plt.xlabel(\"Energies\")\n",
    "plt.ylabel(\"Num occurences\")\n",
    "plt.show()"
   ]
  },
  {
   "cell_type": "markdown",
   "id": "8aa1c589-18a8-40d8-80bf-85517567f657",
   "metadata": {},
   "source": [
    "## Number Partitioning\n",
    "[5]\n",
    "\n",
    "**Problem**: \n",
    "\n",
    "Split a set of numbers in two subsets such that the sums of the elements of each subset are as close as possible.\n",
    "\n",
    "**Formulation**:\n",
    "\n",
    "We start with the set of integers $s_i$. \n",
    "\n",
    "Let $x_i$ be 0 if $s_i$ belongs to subset 0, and 1 otherwise. Since we are considering binary variables, $x_i^2 = x_i$.\n",
    "\n",
    "The sum of the elements in subset 1 is $sum_1 = \\sum_i x_i s_i$.\n",
    "The sum of the elements in subset 0 is $sum_0 = \\sum_i s_i - sum_1 = c - sum_1$.\n",
    "\n",
    "We want to minimize \n",
    "$$(sum_0-sum_1)^2 = (c - sum_1 - sum_1)^2 = $$\n",
    "\n",
    "$$\\left(c -  2\\sum_i x_i s_i\\right)^2  = c^2 -4c\\sum_i x_i s_i + 4\\left(\\sum_i x_i s_i\\right)^2 = \n",
    "$$\n",
    "\n",
    "$$\n",
    "c^2 -4c\\sum_i x_i s_i + 4\\sum_i x_i^2 s_i^2 + 4 \\sum_i\\sum_{j\\neq i} x_ix_js_is_j =\n",
    "$$\n",
    "\n",
    "$$\n",
    "c^2 + 4\\sum_i x_i^2 (s_i^2 - cs_i) + 4 \\sum_i\\sum_{j\\neq i} x_ix_js_is_j = c^2 +4\\mathbf{x^TQx}\n",
    "$$\n",
    "\n",
    "We can drop the additive and multiplicative constants, and just minimize\n",
    "\n",
    "$$ \\sum_i q_{ii} x_i + \\sum_i\\sum_{j\\neq i} q_{ij}x_ix_j,\\quad q_{ii} =  s_i(s_i - c),\\quad q_{ij} =  s_is_j$$"
   ]
  },
  {
   "cell_type": "code",
   "execution_count": 13,
   "id": "dc7e185f-3cb5-4360-bf31-ffbd73b48105",
   "metadata": {},
   "outputs": [],
   "source": [
    "import numpy as np\n",
    "from dimod import BinaryQuadraticModel\n",
    "\n",
    "#Samplers\n",
    "from neal import SimulatedAnnealingSampler\n",
    "from dwave.system import DWaveSampler, EmbeddingComposite\n",
    "\n",
    "import dwave.inspector"
   ]
  },
  {
   "cell_type": "code",
   "execution_count": 14,
   "id": "04c7e864-c37a-422e-9991-f5c56d589df3",
   "metadata": {
    "slideshow": {
     "slide_type": "subslide"
    },
    "tags": []
   },
   "outputs": [
    {
     "name": "stdout",
     "output_type": "stream",
     "text": [
      "[92  3 86 52 24 75 67 35  3 62]\n"
     ]
    }
   ],
   "source": [
    "#Generate list of random integers\n",
    "numbers = np.random.randint(1,100, size=10)\n",
    "c = numbers.sum()\n",
    "\n",
    "print(numbers)"
   ]
  },
  {
   "cell_type": "code",
   "execution_count": 15,
   "id": "c4c9f8be-71dc-408d-9428-ede76b6b8386",
   "metadata": {
    "slideshow": {
     "slide_type": "slide"
    },
    "tags": []
   },
   "outputs": [],
   "source": [
    "#Create Binary Quadratic Model and a matrix Q for visualization\n",
    "\n",
    "bqm = BinaryQuadraticModel(len(numbers), vartype='BINARY')\n",
    "Q = np.zeros((len(numbers), len(numbers)))\n",
    "\n",
    "#Add linear terms\n",
    "for i in range(len(numbers)):\n",
    "    Q[i,i] = numbers[i]*(numbers[i]-c)/c\n",
    "    bqm.add_linear(i, numbers[i]*(numbers[i]-c)/c)\n",
    "\n",
    "#Add quadratic terms\n",
    "for i in range(len(numbers)):\n",
    "    for j in range(len(numbers)):\n",
    "        if i == j: continue\n",
    "        Q[i,j] = numbers[i]*numbers[j]/c\n",
    "        bqm.add_quadratic(i, j , numbers[i]*numbers[j]/c)\n",
    "        \n",
    "# print(Q)"
   ]
  },
  {
   "cell_type": "code",
   "execution_count": 16,
   "id": "5ca9ebb2-3ab7-40b3-aad1-a5b76db54860",
   "metadata": {},
   "outputs": [],
   "source": [
    "sampler = EmbeddingComposite(DWaveSampler()) #QPU sampler\n",
    "# sampler = SimulatedAnnealingSampler() #Simulated annealing sampler\n",
    "samples = sampler.sample(bqm, num_reads=20, label= \"Number Partitioning\")"
   ]
  },
  {
   "cell_type": "code",
   "execution_count": 10,
   "id": "be846d7a-d42c-4d84-92fc-1b8175f64b44",
   "metadata": {},
   "outputs": [
    {
     "data": {
      "text/plain": [
       "'http://127.0.0.1:18000/?problemId=2124c2e0-274f-474b-8f0c-b8734ceca52e'"
      ]
     },
     "execution_count": 10,
     "metadata": {},
     "output_type": "execute_result"
    }
   ],
   "source": [
    "#Inspect the problem\n",
    "dwave.inspector.show(samples)"
   ]
  },
  {
   "cell_type": "code",
   "execution_count": 17,
   "id": "dedcedad-9152-4f95-84b9-e786d1adf643",
   "metadata": {
    "scrolled": true,
    "tags": []
   },
   "outputs": [
    {
     "name": "stdout",
     "output_type": "stream",
     "text": [
      "Best partition found:\n",
      "[92  3 86 67]\n",
      "[52 24 75 35  3 62]\n",
      "\n",
      "The respective sums are 248 and 251, which differ by 3\n"
     ]
    },
    {
     "data": {
      "image/png": "[encoded data removed]",
      "text/plain": [
       "<Figure size 648x216 with 2 Axes>"
      ]
     },
     "metadata": {
      "needs_background": "light"
     },
     "output_type": "display_data"
    }
   ],
   "source": [
    "best = np.array(list(samples.lowest().first.sample.values()))\n",
    "sum1 = numbers[best==1].sum()\n",
    "sum0 = c - sum1\n",
    "\n",
    "print(f\"Best partition found:\\n{numbers[best==0]}\\n{numbers[best==1]}\\n\")\n",
    "print(f\"The respective sums are {sum0} and {sum1}, which differ by {abs(sum0-sum1)}\")\n",
    "\n",
    "energies = np.array([s.energy for s in samples.data()])\n",
    "occurences = [s.num_occurrences for s in samples.data()]\n",
    "\n",
    "differences = []\n",
    "for s in samples.data():\n",
    "    result = np.array(list(s.sample.values()))\n",
    "    sum1 = numbers[result==1].sum()\n",
    "    sum0 = c - sum1\n",
    "    differences.append(abs(sum1-sum0))\n",
    "    \n",
    "fig, ax = plt.subplots(figsize=(9,3), ncols=2)\n",
    "ax[0].hist(energies, weights = occurences)\n",
    "ax[1].hist(differences, weights = occurences, color=\"orange\")\n",
    "\n",
    "ax[0].set(xlabel=\"Energies\", ylabel=\"Num occurences\")\n",
    "ax[1].set(xlabel=\"Differences\", ylabel=\"Num occurences\")\n",
    "plt.show()"
   ]
  },
  {
   "cell_type": "markdown",
   "id": "2ab9aa7b-75ab-41af-9123-36ff302ea9cc",
   "metadata": {
    "tags": []
   },
   "source": [
    "50## **Traveling Salesman**\n",
    "[6]\n",
    "\n",
    "**Problem:** \n",
    "\n",
    "Find the shortest trajectory for visiting all $N$ nodes of a graph sequentially.\n",
    "\n",
    "**Formulation:** \n",
    "\n",
    "Let $(a, t)$ be 1 if node/place $a$ is visited at time step $t$, and 0 otherwise.\n",
    "\n",
    "We want to minimize $\\displaystyle\\sum_t\\sum_{a \\in \\text{nodes}}\\sum_{b \\in \\text{nodes}} d_{a, b} (a,t)\\cdot(b,t+1)$ with the following constraints:\n",
    "\n",
    "- $\\displaystyle\\sum_{a \\in \\text{nodes}} (a,t) = 1,\\quad t=0,...,N-1$ 🠖 Can only visit any one place once\n",
    "- $\\displaystyle\\sum_{t =0}^{N-1} (a,t) = 1,\\quad a\\in \\text{nodes}$ 🠖 Can only be in one place at a time\n",
    "\n",
    "We can add these constraints by penalizing them, as we will see in the code."
   ]
  },
  {
   "cell_type": "code",
   "execution_count": 18,
   "id": "abf30b21-ea70-4bb3-924d-c47fa9b8c81c",
   "metadata": {},
   "outputs": [],
   "source": [
    "from dimod import BinaryQuadraticModel\n",
    "\n",
    "#Helper functions for constraints\n",
    "from dimod.generators.constraints import combinations\n",
    "from itertools import permutations\n",
    "\n",
    "#Samplers\n",
    "from neal import SimulatedAnnealingSampler\n",
    "from dwave.system import DWaveSampler, EmbeddingComposite\n",
    "\n",
    "import dwave.inspector"
   ]
  },
  {
   "cell_type": "code",
   "execution_count": 19,
   "id": "18e31759-3f73-45ec-98bc-0c35a11f7bcc",
   "metadata": {},
   "outputs": [],
   "source": [
    "places = [\"Pavilhão Central\",\n",
    "         \"Torre Norte\",\n",
    "         \"Torre Sul\",\n",
    "         \"Pavilhão Matemática\",\n",
    "         \"Pavilhão Civil\",\n",
    "         \"Cantina\"]\n",
    "\n",
    "distances = {(0,1):91, (0,2): 91, (0,3):140, (0,4):98, (0,5):175,\n",
    "             (1,2):175, (1,3):230, (1,4):107, (1,5):192,\n",
    "             (2,3):100, (2,4):178, (2,5):157,\n",
    "             (3,4):177, (3,5):258,\n",
    "             (4,5):265,\n",
    "            }\n",
    "\n",
    "N = len(places)"
   ]
  },
  {
   "cell_type": "code",
   "execution_count": 20,
   "id": "641a2dfd-47a3-41fe-a849-2692f6cecb0e",
   "metadata": {},
   "outputs": [],
   "source": [
    "# Returns the distance between place1 and place2\n",
    "def get_distance(place1, place2):\n",
    "    i = places.index(place1)\n",
    "    j = places.index(place2)\n",
    "    return distances[(min(i,j), max(i,j))]"
   ]
  },
  {
   "cell_type": "markdown",
   "id": "8f27b245-c182-4fd2-ab0d-970f00152e99",
   "metadata": {},
   "source": [
    "Explicitly setting the quadratic penalties:"
   ]
  },
  {
   "cell_type": "code",
   "execution_count": 21,
   "id": "50e3cc3e-bb01-4941-9b37-900c5efcf58e",
   "metadata": {
    "scrolled": true,
    "tags": []
   },
   "outputs": [],
   "source": [
    "bqm = BinaryQuadraticModel(\"BINARY\")\n",
    "\n",
    "# The average route distance will be a good measure of the strength of the constraints\n",
    "avg_distance = 2*sum(distances.values())/(N-1)\n",
    "\n",
    "# Can only visit one place once\n",
    "for place in places:\n",
    "    for t in range(N):\n",
    "        bqm.add_variable((place, t))\n",
    "        bqm.add_linear((place,t), -avg_distance)  \n",
    "        for j in range(t+1, N):\n",
    "            bqm.add_quadratic((place,t), (place,j), 2*avg_distance)\n",
    "            \n",
    "# Can only be one place at a time\n",
    "for t in range(N):\n",
    "    for place in places:\n",
    "        bqm.add_linear((place,t), -avg_distance)\n",
    "        for place2 in places:\n",
    "            if place == place2: continue\n",
    "            bqm.add_quadratic((place,t), (place2,t), avg_distance)\n",
    "\n",
    "#Setting the distance between places            \n",
    "for place1, place2 in permutations(places, 2):\n",
    "    for t in range(N):\n",
    "        t_next = (t + 1) % N\n",
    "        bqm.add_quadratic((place1,t), (place2,t_next), get_distance(place1,place2))"
   ]
  },
  {
   "cell_type": "markdown",
   "id": "87cb4ece-0a91-4195-87f7-27d42a9a6b15",
   "metadata": {},
   "source": [
    "Using the `combinations` function:"
   ]
  },
  {
   "cell_type": "code",
   "execution_count": 27,
   "id": "510f9f38-2063-4385-9411-42120bf955a4",
   "metadata": {
    "scrolled": true,
    "tags": []
   },
   "outputs": [],
   "source": [
    "bqm = BinaryQuadraticModel(\"BINARY\")\n",
    "\n",
    "# The average route distance will be a good measure of the strength of the constraints\n",
    "avg_distance = 2*sum(distances.values())/(N-1)\n",
    "\n",
    "# Can only visit one place once\n",
    "for place in places:\n",
    "    possible = [(place,t) for t in range(N)]\n",
    "    possible_comb = combinations(possible, 1, strength=avg_distance)\n",
    "    bqm.update(possible_comb)\n",
    "\n",
    "# Can only be one place at a time\n",
    "for t in range(N):\n",
    "    possible = [(place,t) for place in places]\n",
    "    possible_comb = combinations(possible, 1, strength=avg_distance)\n",
    "    bqm.update(possible_comb)\n",
    "\n",
    "#Setting the distance between places            \n",
    "for place1, place2 in permutations(places, 2):\n",
    "    for t in range(N):\n",
    "        t_next = (t + 1) % N\n",
    "        bqm.add_quadratic((place1,t), (place2,t_next), get_distance(place1,place2))"
   ]
  },
  {
   "cell_type": "markdown",
   "id": "aa07c802-a6a0-4bbe-821b-26859491e5f3",
   "metadata": {},
   "source": [
    "Sample and show lowest energy solution:"
   ]
  },
  {
   "cell_type": "code",
   "execution_count": 22,
   "id": "7343b685-e9c7-400c-8b4a-ec1c45fec19a",
   "metadata": {},
   "outputs": [
    {
     "name": "stdout",
     "output_type": "stream",
     "text": [
      "Energy: -10889.200\n",
      "Torre Norte -> Pavilhão Civil -> Pavilhão Central -> Pavilhão Matemática -> Torre Sul -> Cantina\n",
      "Distance: 794 m\n"
     ]
    }
   ],
   "source": [
    "# sampler = neal.SimulatedAnnealingSampler() #Simulated annealing\n",
    "sampler = EmbeddingComposite(DWaveSampler()) #QPU sampler\n",
    "\n",
    "samples = sampler.sample(bqm, num_reads=150, label=\"Traveling Salesman\")\n",
    "\n",
    "solution = samples.lowest().first.sample\n",
    "\n",
    "route = [i for i in solution if solution[i]]\n",
    "route.sort(key=lambda x: x[1])\n",
    "\n",
    "final_distance = sum([get_distance(i[0],j[0]) for i,j in zip(route,route[1:]+[route[0]])])\n",
    "\n",
    "print(f\"Energy: {samples.lowest().first.energy:.3f}\")\n",
    "print(\" -> \".join([x[0] for x in route]))\n",
    "print(f\"Distance: {final_distance} m\")"
   ]
  },
  {
   "cell_type": "code",
   "execution_count": 23,
   "id": "9e795840-6d8f-4d7d-9d01-cda63d1486b3",
   "metadata": {},
   "outputs": [
    {
     "data": {
      "text/plain": [
       "'http://127.0.0.1:18000/?problemId=72c81537-4919-42e5-8428-577c36b8818c'"
      ]
     },
     "execution_count": 23,
     "metadata": {},
     "output_type": "execute_result"
    }
   ],
   "source": [
    "#Inspect the problem\n",
    "dwave.inspector.show(samples)  "
   ]
  },
  {
   "cell_type": "markdown",
   "id": "5b66034d-2f0c-43fa-9866-c1b8b81d689d",
   "metadata": {},
   "source": [
    "Show all solutions"
   ]
  },
  {
   "cell_type": "code",
   "execution_count": 24,
   "id": "1524c4fc-4338-44e6-aabb-8c8c733f23c5",
   "metadata": {
    "scrolled": true,
    "tags": []
   },
   "outputs": [
    {
     "name": "stdout",
     "output_type": "stream",
     "text": [
      "Valid Solution\n",
      "Number of occurrences: 1\n",
      "Distance: 794 m\n",
      "Energy: -10889.2\n",
      "Torre Norte -> Pavilhão Civil -> Pavilhão Central -> Pavilhão Matemática -> Torre Sul -> Cantina\n",
      "\n",
      "Valid Solution\n",
      "Number of occurrences: 1\n",
      "Distance: 881 m\n",
      "Energy: -10802.2\n",
      "Pavilhão Matemática -> Pavilhão Civil -> Torre Norte -> Pavilhão Central -> Torre Sul -> Cantina\n",
      "\n",
      "Valid Solution\n",
      "Number of occurrences: 1\n",
      "Distance: 983 m\n",
      "Energy: -10700.2\n",
      "Pavilhão Central -> Cantina -> Pavilhão Matemática -> Pavilhão Civil -> Torre Norte -> Torre Sul\n",
      "\n",
      "Valid Solution\n",
      "Number of occurrences: 1\n",
      "Distance: 987 m\n",
      "Energy: -10696.2\n",
      "Torre Sul -> Pavilhão Central -> Torre Norte -> Cantina -> Pavilhão Matemática -> Pavilhão Civil\n",
      "\n",
      "Valid Solution\n",
      "Number of occurrences: 1\n",
      "Distance: 987 m\n",
      "Energy: -10696.2\n",
      "Torre Sul -> Pavilhão Matemática -> Cantina -> Pavilhão Civil -> Pavilhão Central -> Torre Norte\n",
      "\n",
      "Valid Solution\n",
      "Number of occurrences: 1\n",
      "Distance: 1036 m\n",
      "Energy: -10647.2\n",
      "Pavilhão Matemática -> Cantina -> Pavilhão Civil -> Torre Norte -> Torre Sul -> Pavilhão Central\n",
      "\n",
      "Valid Solution\n",
      "Number of occurrences: 1\n",
      "Distance: 1096 m\n",
      "Energy: -10587.2\n",
      "Pavilhão Civil -> Cantina -> Torre Norte -> Pavilhão Matemática -> Pavilhão Central -> Torre Sul\n",
      "\n",
      "Invalid Solution\n",
      "Number of occurrences: 1\n",
      "Distance: 716 m\n",
      "Energy: -9212.0\n",
      "Pavilhão Civil -> Pavilhão Central -> Torre Norte -> Cantina -> Torre Sul\n",
      "\n",
      "Invalid Solution\n",
      "Number of occurrences: 1\n",
      "Distance: 626 m\n",
      "Energy: -9208.0\n",
      "Torre Sul -> Pavilhão Central -> Pavilhão Civil -> Torre Norte -> Pavilhão Matemática\n",
      "\n",
      "Invalid Solution\n",
      "Number of occurrences: 1\n",
      "Distance: 767 m\n",
      "Energy: -9199.0\n",
      "Pavilhão Central -> Torre Sul -> Pavilhão Civil -> Pavilhão Matemática -> Torre Norte\n",
      "\n"
     ]
    }
   ],
   "source": [
    "#Show all solutions\n",
    "for _, solution in zip(range(10),samples.aggregate().data()):\n",
    "    result = solution.sample\n",
    "    route = [i for i in result if result[i]]\n",
    "    route.sort(key=lambda x: x[1])\n",
    "\n",
    "    try:\n",
    "        final_distance = sum([get_distance(i[0],j[0]) for i,j in zip(route,route[1:]+[route[0]])])\n",
    "    except Exception as e:\n",
    "        print(\"Invalid Solution\")\n",
    "        continue\n",
    "    \n",
    "    print(\"Valid Solution\" if len(route)==len(set(route))==6 else \"Invalid Solution\")\n",
    "    print(f\"Number of occurrences: {solution.num_occurrences}\")\n",
    "    print(f\"Distance: {final_distance} m\")\n",
    "    print(f\"Energy: {solution.energy}\")\n",
    "    print(\" -> \".join([x[0] for x in route]) + \"\\n\")"
   ]
  },
  {
   "cell_type": "markdown",
   "id": "364a5ef0-4b49-4c5a-8876-fe67117fd2bc",
   "metadata": {},
   "source": [
    "# Conclusions \n",
    "\n",
    "- Quantum annealing is a very promising model of Quantum Computation that, in the future, could prove really useful for certain tasks.\n",
    "- A lot of work still remains to be done in this area;\n",
    "- There are tools publicly available that allow for an easy and fast interaction with Quantum Processing Units capable of solving some optimization problems.\n"
   ]
  },
  {
   "cell_type": "markdown",
   "id": "28d4d721-0547-40a5-b260-6924d967bf1e",
   "metadata": {},
   "source": [
    "# References\n",
    "- [1] John Preskill. “Quantum Computing in the NISQ era and beyond”. In: Quantum 2 (Aug. 2018), p. 79. issn: 2521-327X. doi: 10.22331/q-2018-08-06-79. url: http://dx.doi.org/10.22331/q-2018-08-06-79.\n",
    "\n",
    "- [2] Elisabeth Lobe and Annette Lutz. Minor Embedding in Broken Chimera and Pegasus Graphs\n",
    "is NP-complete. 2021. arXiv: 2110.08325 [quant-ph].\n",
    "\n",
    "- [3] DWave Ocean Software Documentation. Jan. 2022. url: https://docs.ocean.dwavesys.com/.\n",
    "\n",
    "- [4] Raúl Santos. “Introduction to Adiabatic Quantum Computation”. In: *Introduction to Quantum Information and Computation, 2021/22*. Instituto Superior Técnico, Universidade de Lisboa. Jan. 2022.\n",
    "\n",
    "- [5] Fred Glover, Gary Kochenberger, and Yu Du. A Tutorial on Formulating and Using QUBO Models. 2019. arXiv: 1811.11538 [cs.DS].\n",
    "\n",
    "- [6] Bettina Heim et al. Designing Adiabatic Quantum Optimization: A Case Study for the Traveling Salesman Problem. 2017. arXiv: 1702.06248 [quant-ph]."
   ]
  }
 ],
 "metadata": {
  "kernelspec": {
   "display_name": "Python 3 (ipykernel)",
   "language": "python",
   "name": "python3"
  },
  "language_info": {
   "codemirror_mode": {
    "name": "ipython",
    "version": 3
   },
   "file_extension": ".py",
   "mimetype": "text/x-python",
   "name": "python",
   "nbconvert_exporter": "python",
   "pygments_lexer": "ipython3",
   "version": "3.9.9"
  },
  "toc-autonumbering": true,
  "toc-showtags": false
 },
 "nbformat": 4,
 "nbformat_minor": 5
}
